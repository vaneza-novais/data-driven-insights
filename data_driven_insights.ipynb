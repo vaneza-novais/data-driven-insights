{
 "cells": [
  {
   "cell_type": "code",
   "execution_count": 134,
   "id": "1da3a096",
   "metadata": {},
   "outputs": [],
   "source": [
    "import pandas as pd\n",
    "import numpy as np\n",
    "import matplotlib.pyplot as plt\n",
    "\n",
    "#Exibir o tipo de cada coluna do df\n",
    "def colunas_df(df):\n",
    "    for col in df.columns:\n",
    "        tipo = df[col].dtype\n",
    "        print(col, \", tipo: \", tipo)\n",
    "\n",
    "#Definir se o estudante foi aprovado informando o df e dias de curso e nota minima\n",
    "def student_approved(df, days, grade):\n",
    "    absences = df[\"absences\"] > days * 0.25 #quantidade de faltas deve ser inferior a 25%\n",
    "    G3 = df[\"G3\"] >= grade\n",
    "\n",
    "    df[\"status\"] = np.where(absences | G3,\n",
    "                            \"aproved\",\n",
    "                            \"reproved\")        "
   ]
  },
  {
   "cell_type": "code",
   "execution_count": 135,
   "id": "a193c501",
   "metadata": {},
   "outputs": [
    {
     "name": "stdout",
     "output_type": "stream",
     "text": [
      "  school sex  age address famsize Pstatus  Medu  Fedu     Mjob      Fjob  ...  \\\n",
      "0     GP   F   18       U     GT3       A     4     4  at_home   teacher  ...   \n",
      "1     GP   F   17       U     GT3       T     1     1  at_home     other  ...   \n",
      "2     GP   F   15       U     LE3       T     1     1  at_home     other  ...   \n",
      "3     GP   F   15       U     GT3       T     4     2   health  services  ...   \n",
      "4     GP   F   16       U     GT3       T     3     3    other     other  ...   \n",
      "\n",
      "  famrel freetime  goout  Dalc  Walc health absences  G1  G2  G3  \n",
      "0      4        3      4     1     1      3        6   5   6   6  \n",
      "1      5        3      3     1     1      3        4   5   5   6  \n",
      "2      4        3      2     2     3      3       10   7   8  10  \n",
      "3      3        2      2     1     1      5        2  15  14  15  \n",
      "4      4        3      2     1     2      5        4   6  10  10  \n",
      "\n",
      "[5 rows x 33 columns]\n",
      "Index(['school', 'sex', 'age', 'address', 'famsize', 'Pstatus', 'Medu', 'Fedu',\n",
      "       'Mjob', 'Fjob', 'reason', 'guardian', 'traveltime', 'studytime',\n",
      "       'failures', 'schoolsup', 'famsup', 'paid', 'activities', 'nursery',\n",
      "       'higher', 'internet', 'romantic', 'famrel', 'freetime', 'goout', 'Dalc',\n",
      "       'Walc', 'health', 'absences', 'G1', 'G2', 'G3'],\n",
      "      dtype='object')\n",
      "              age        Medu        Fedu  traveltime   studytime    failures  \\\n",
      "count  395.000000  395.000000  395.000000  395.000000  395.000000  395.000000   \n",
      "mean    16.696203    2.749367    2.521519    1.448101    2.035443    0.334177   \n",
      "std      1.276043    1.094735    1.088201    0.697505    0.839240    0.743651   \n",
      "min     15.000000    0.000000    0.000000    1.000000    1.000000    0.000000   \n",
      "25%     16.000000    2.000000    2.000000    1.000000    1.000000    0.000000   \n",
      "50%     17.000000    3.000000    2.000000    1.000000    2.000000    0.000000   \n",
      "75%     18.000000    4.000000    3.000000    2.000000    2.000000    0.000000   \n",
      "max     22.000000    4.000000    4.000000    4.000000    4.000000    3.000000   \n",
      "\n",
      "           famrel    freetime       goout        Dalc        Walc      health  \\\n",
      "count  395.000000  395.000000  395.000000  395.000000  395.000000  395.000000   \n",
      "mean     3.944304    3.235443    3.108861    1.481013    2.291139    3.554430   \n",
      "std      0.896659    0.998862    1.113278    0.890741    1.287897    1.390303   \n",
      "min      1.000000    1.000000    1.000000    1.000000    1.000000    1.000000   \n",
      "25%      4.000000    3.000000    2.000000    1.000000    1.000000    3.000000   \n",
      "50%      4.000000    3.000000    3.000000    1.000000    2.000000    4.000000   \n",
      "75%      5.000000    4.000000    4.000000    2.000000    3.000000    5.000000   \n",
      "max      5.000000    5.000000    5.000000    5.000000    5.000000    5.000000   \n",
      "\n",
      "         absences          G1          G2          G3  \n",
      "count  395.000000  395.000000  395.000000  395.000000  \n",
      "mean     5.708861   10.908861   10.713924   10.415190  \n",
      "std      8.003096    3.319195    3.761505    4.581443  \n",
      "min      0.000000    3.000000    0.000000    0.000000  \n",
      "25%      0.000000    8.000000    9.000000    8.000000  \n",
      "50%      4.000000   11.000000   11.000000   11.000000  \n",
      "75%      8.000000   13.000000   13.000000   14.000000  \n",
      "max     75.000000   19.000000   19.000000   20.000000  \n",
      "school        object\n",
      "sex           object\n",
      "age            int64\n",
      "address       object\n",
      "famsize       object\n",
      "Pstatus       object\n",
      "Medu           int64\n",
      "Fedu           int64\n",
      "Mjob          object\n",
      "Fjob          object\n",
      "reason        object\n",
      "guardian      object\n",
      "traveltime     int64\n",
      "studytime      int64\n",
      "failures       int64\n",
      "schoolsup     object\n",
      "famsup        object\n",
      "paid          object\n",
      "activities    object\n",
      "nursery       object\n",
      "higher        object\n",
      "internet      object\n",
      "romantic      object\n",
      "famrel         int64\n",
      "freetime       int64\n",
      "goout          int64\n",
      "Dalc           int64\n",
      "Walc           int64\n",
      "health         int64\n",
      "absences       int64\n",
      "G1             int64\n",
      "G2             int64\n",
      "G3             int64\n",
      "dtype: object\n"
     ]
    }
   ],
   "source": [
    "df_student_mat = pd.read_csv('student-mat.csv', sep= \";\")\n",
    "print(df_student_mat.head())\n",
    "print(df_student_mat.columns)\n",
    "print(df_student_mat.describe())\n",
    "print(df_student_mat.dtypes)"
   ]
  },
  {
   "cell_type": "code",
   "execution_count": 136,
   "id": "8926c563",
   "metadata": {},
   "outputs": [
    {
     "name": "stdout",
     "output_type": "stream",
     "text": [
      "  school sex  age address famsize Pstatus  Medu  Fedu     Mjob      Fjob  ...  \\\n",
      "0     GP   F   18       U     GT3       A     4     4  at_home   teacher  ...   \n",
      "1     GP   F   17       U     GT3       T     1     1  at_home     other  ...   \n",
      "2     GP   F   15       U     LE3       T     1     1  at_home     other  ...   \n",
      "3     GP   F   15       U     GT3       T     4     2   health  services  ...   \n",
      "4     GP   F   16       U     GT3       T     3     3    other     other  ...   \n",
      "\n",
      "  famrel freetime  goout  Dalc  Walc health absences  G1  G2  G3  \n",
      "0      4        3      4     1     1      3        4   0  11  11  \n",
      "1      5        3      3     1     1      3        2   9  11  11  \n",
      "2      4        3      2     2     3      3        6  12  13  12  \n",
      "3      3        2      2     1     1      5        0  14  14  14  \n",
      "4      4        3      2     1     2      5        0  11  13  13  \n",
      "\n",
      "[5 rows x 33 columns]\n",
      "Index(['school', 'sex', 'age', 'address', 'famsize', 'Pstatus', 'Medu', 'Fedu',\n",
      "       'Mjob', 'Fjob', 'reason', 'guardian', 'traveltime', 'studytime',\n",
      "       'failures', 'schoolsup', 'famsup', 'paid', 'activities', 'nursery',\n",
      "       'higher', 'internet', 'romantic', 'famrel', 'freetime', 'goout', 'Dalc',\n",
      "       'Walc', 'health', 'absences', 'G1', 'G2', 'G3'],\n",
      "      dtype='object')\n",
      "              age        Medu        Fedu  traveltime   studytime    failures  \\\n",
      "count  649.000000  649.000000  649.000000  649.000000  649.000000  649.000000   \n",
      "mean    16.744222    2.514638    2.306626    1.568567    1.930663    0.221880   \n",
      "std      1.218138    1.134552    1.099931    0.748660    0.829510    0.593235   \n",
      "min     15.000000    0.000000    0.000000    1.000000    1.000000    0.000000   \n",
      "25%     16.000000    2.000000    1.000000    1.000000    1.000000    0.000000   \n",
      "50%     17.000000    2.000000    2.000000    1.000000    2.000000    0.000000   \n",
      "75%     18.000000    4.000000    3.000000    2.000000    2.000000    0.000000   \n",
      "max     22.000000    4.000000    4.000000    4.000000    4.000000    3.000000   \n",
      "\n",
      "           famrel    freetime       goout        Dalc        Walc      health  \\\n",
      "count  649.000000  649.000000  649.000000  649.000000  649.000000  649.000000   \n",
      "mean     3.930663    3.180277    3.184900    1.502311    2.280431    3.536210   \n",
      "std      0.955717    1.051093    1.175766    0.924834    1.284380    1.446259   \n",
      "min      1.000000    1.000000    1.000000    1.000000    1.000000    1.000000   \n",
      "25%      4.000000    3.000000    2.000000    1.000000    1.000000    2.000000   \n",
      "50%      4.000000    3.000000    3.000000    1.000000    2.000000    4.000000   \n",
      "75%      5.000000    4.000000    4.000000    2.000000    3.000000    5.000000   \n",
      "max      5.000000    5.000000    5.000000    5.000000    5.000000    5.000000   \n",
      "\n",
      "         absences          G1          G2          G3  \n",
      "count  649.000000  649.000000  649.000000  649.000000  \n",
      "mean     3.659476   11.399076   11.570108   11.906009  \n",
      "std      4.640759    2.745265    2.913639    3.230656  \n",
      "min      0.000000    0.000000    0.000000    0.000000  \n",
      "25%      0.000000   10.000000   10.000000   10.000000  \n",
      "50%      2.000000   11.000000   11.000000   12.000000  \n",
      "75%      6.000000   13.000000   13.000000   14.000000  \n",
      "max     32.000000   19.000000   19.000000   19.000000  \n",
      "school        object\n",
      "sex           object\n",
      "age            int64\n",
      "address       object\n",
      "famsize       object\n",
      "Pstatus       object\n",
      "Medu           int64\n",
      "Fedu           int64\n",
      "Mjob          object\n",
      "Fjob          object\n",
      "reason        object\n",
      "guardian      object\n",
      "traveltime     int64\n",
      "studytime      int64\n",
      "failures       int64\n",
      "schoolsup     object\n",
      "famsup        object\n",
      "paid          object\n",
      "activities    object\n",
      "nursery       object\n",
      "higher        object\n",
      "internet      object\n",
      "romantic      object\n",
      "famrel         int64\n",
      "freetime       int64\n",
      "goout          int64\n",
      "Dalc           int64\n",
      "Walc           int64\n",
      "health         int64\n",
      "absences       int64\n",
      "G1             int64\n",
      "G2             int64\n",
      "G3             int64\n",
      "dtype: object\n"
     ]
    }
   ],
   "source": [
    "df_student_por = pd.read_csv('student-por.csv', sep= \";\")\n",
    "print(df_student_por.head())\n",
    "print(df_student_por.columns)\n",
    "print(df_student_por.describe())\n",
    "print(df_student_por.dtypes)"
   ]
  },
  {
   "cell_type": "markdown",
   "id": "2c65da89",
   "metadata": {},
   "source": [
    "### Insight:\n",
    "\n",
    "Foi observado que essa base apresenta dados sobre determinada disciplina, quanto as duas escolas e informações do aluno que a cursam.\n",
    "\n",
    "Os tipos de dados são variados ente categóricos e numéricos e aparentemente as colunas de ambos dataframes são idênticas."
   ]
  },
  {
   "cell_type": "code",
   "execution_count": 137,
   "id": "7d083885",
   "metadata": {},
   "outputs": [
    {
     "name": "stdout",
     "output_type": "stream",
     "text": [
      "school , tipo:  object\n",
      "sex , tipo:  object\n",
      "age , tipo:  int64\n",
      "address , tipo:  object\n",
      "famsize , tipo:  object\n",
      "Pstatus , tipo:  object\n",
      "Medu , tipo:  int64\n",
      "Fedu , tipo:  int64\n",
      "Mjob , tipo:  object\n",
      "Fjob , tipo:  object\n",
      "reason , tipo:  object\n",
      "guardian , tipo:  object\n",
      "traveltime , tipo:  int64\n",
      "studytime , tipo:  int64\n",
      "failures , tipo:  int64\n",
      "schoolsup , tipo:  object\n",
      "famsup , tipo:  object\n",
      "paid , tipo:  object\n",
      "activities , tipo:  object\n",
      "nursery , tipo:  object\n",
      "higher , tipo:  object\n",
      "internet , tipo:  object\n",
      "romantic , tipo:  object\n",
      "famrel , tipo:  int64\n",
      "freetime , tipo:  int64\n",
      "goout , tipo:  int64\n",
      "Dalc , tipo:  int64\n",
      "Walc , tipo:  int64\n",
      "health , tipo:  int64\n",
      "absences , tipo:  int64\n",
      "G1 , tipo:  int64\n",
      "G2 , tipo:  int64\n",
      "G3 , tipo:  int64\n"
     ]
    }
   ],
   "source": [
    "colunas_df(df_student_mat)"
   ]
  },
  {
   "cell_type": "code",
   "execution_count": 138,
   "id": "bd836508",
   "metadata": {},
   "outputs": [
    {
     "name": "stdout",
     "output_type": "stream",
     "text": [
      "school , tipo:  object\n",
      "sex , tipo:  object\n",
      "age , tipo:  int64\n",
      "address , tipo:  object\n",
      "famsize , tipo:  object\n",
      "Pstatus , tipo:  object\n",
      "Medu , tipo:  int64\n",
      "Fedu , tipo:  int64\n",
      "Mjob , tipo:  object\n",
      "Fjob , tipo:  object\n",
      "reason , tipo:  object\n",
      "guardian , tipo:  object\n",
      "traveltime , tipo:  int64\n",
      "studytime , tipo:  int64\n",
      "failures , tipo:  int64\n",
      "schoolsup , tipo:  object\n",
      "famsup , tipo:  object\n",
      "paid , tipo:  object\n",
      "activities , tipo:  object\n",
      "nursery , tipo:  object\n",
      "higher , tipo:  object\n",
      "internet , tipo:  object\n",
      "romantic , tipo:  object\n",
      "famrel , tipo:  int64\n",
      "freetime , tipo:  int64\n",
      "goout , tipo:  int64\n",
      "Dalc , tipo:  int64\n",
      "Walc , tipo:  int64\n",
      "health , tipo:  int64\n",
      "absences , tipo:  int64\n",
      "G1 , tipo:  int64\n",
      "G2 , tipo:  int64\n",
      "G3 , tipo:  int64\n"
     ]
    }
   ],
   "source": [
    "colunas_df(df_student_por)"
   ]
  },
  {
   "cell_type": "code",
   "execution_count": 139,
   "id": "edb06556",
   "metadata": {},
   "outputs": [
    {
     "name": "stdout",
     "output_type": "stream",
     "text": [
      "school , tipo:  object\n",
      "sex , tipo:  object\n",
      "age , tipo:  int64\n",
      "address , tipo:  object\n",
      "famsize , tipo:  object\n",
      "Pstatus , tipo:  object\n",
      "Medu , tipo:  int64\n",
      "Fedu , tipo:  int64\n",
      "Mjob , tipo:  object\n",
      "Fjob , tipo:  object\n",
      "reason , tipo:  object\n",
      "guardian , tipo:  object\n",
      "traveltime , tipo:  int64\n",
      "studytime , tipo:  int64\n",
      "failures , tipo:  int64\n",
      "schoolsup , tipo:  object\n",
      "famsup , tipo:  object\n",
      "paid , tipo:  object\n",
      "activities , tipo:  object\n",
      "nursery , tipo:  object\n",
      "higher , tipo:  object\n",
      "internet , tipo:  object\n",
      "romantic , tipo:  object\n",
      "famrel , tipo:  int64\n",
      "freetime , tipo:  int64\n",
      "goout , tipo:  int64\n",
      "Dalc , tipo:  int64\n",
      "Walc , tipo:  int64\n",
      "health , tipo:  int64\n",
      "absences , tipo:  int64\n",
      "G1 , tipo:  int64\n",
      "G2 , tipo:  int64\n",
      "G3 , tipo:  int64\n",
      "school , tipo:  object\n",
      "sex , tipo:  object\n",
      "age , tipo:  int64\n",
      "address , tipo:  object\n",
      "famsize , tipo:  object\n",
      "Pstatus , tipo:  object\n",
      "Medu , tipo:  int64\n",
      "Fedu , tipo:  int64\n",
      "Mjob , tipo:  object\n",
      "Fjob , tipo:  object\n",
      "reason , tipo:  object\n",
      "guardian , tipo:  object\n",
      "traveltime , tipo:  int64\n",
      "studytime , tipo:  int64\n",
      "failures , tipo:  int64\n",
      "schoolsup , tipo:  object\n",
      "famsup , tipo:  object\n",
      "paid , tipo:  object\n",
      "activities , tipo:  object\n",
      "nursery , tipo:  object\n",
      "higher , tipo:  object\n",
      "internet , tipo:  object\n",
      "romantic , tipo:  object\n",
      "famrel , tipo:  int64\n",
      "freetime , tipo:  int64\n",
      "goout , tipo:  int64\n",
      "Dalc , tipo:  int64\n",
      "Walc , tipo:  int64\n",
      "health , tipo:  int64\n",
      "absences , tipo:  int64\n",
      "G1 , tipo:  int64\n",
      "G2 , tipo:  int64\n",
      "G3 , tipo:  int64\n",
      "Colunas iguais\n"
     ]
    }
   ],
   "source": [
    "#verificar se ambos df são iguais para unificar\n",
    "if colunas_df(df_student_por) == colunas_df(df_student_mat):\n",
    "    print(\"Colunas iguais\")\n",
    "else:\n",
    "    print(\"Colunas diferentes\")"
   ]
  },
  {
   "cell_type": "markdown",
   "id": "ed1ac6ed",
   "metadata": {},
   "source": [
    "Como a condição retornou \"Colunas iguais\" então podemos unificar e analisar as duas informações juntas"
   ]
  },
  {
   "cell_type": "code",
   "execution_count": 140,
   "id": "8aa64bf6",
   "metadata": {},
   "outputs": [
    {
     "name": "stdout",
     "output_type": "stream",
     "text": [
      "  school sex  age address famsize Pstatus  Medu  Fedu     Mjob      Fjob  ...  \\\n",
      "0     GP   F   18       U     GT3       A     4     4  at_home   teacher  ...   \n",
      "1     GP   F   17       U     GT3       T     1     1  at_home     other  ...   \n",
      "2     GP   F   15       U     LE3       T     1     1  at_home     other  ...   \n",
      "3     GP   F   15       U     GT3       T     4     2   health  services  ...   \n",
      "4     GP   F   16       U     GT3       T     3     3    other     other  ...   \n",
      "\n",
      "  freetime goout  Dalc  Walc  health absences  G1  G2  G3    language  \n",
      "0        3     4     1     1       3        4   0  11  11  Portuguese  \n",
      "1        3     3     1     1       3        2   9  11  11  Portuguese  \n",
      "2        3     2     2     3       3        6  12  13  12  Portuguese  \n",
      "3        2     2     1     1       5        0  14  14  14  Portuguese  \n",
      "4        3     2     1     2       5        0  11  13  13  Portuguese  \n",
      "\n",
      "[5 rows x 34 columns]\n",
      "               age         Medu         Fedu   traveltime    studytime  \\\n",
      "count  1044.000000  1044.000000  1044.000000  1044.000000  1044.000000   \n",
      "mean     16.726054     2.603448     2.387931     1.522989     1.970307   \n",
      "std       1.239975     1.124907     1.099938     0.731727     0.834353   \n",
      "min      15.000000     0.000000     0.000000     1.000000     1.000000   \n",
      "25%      16.000000     2.000000     1.000000     1.000000     1.000000   \n",
      "50%      17.000000     3.000000     2.000000     1.000000     2.000000   \n",
      "75%      18.000000     4.000000     3.000000     2.000000     2.000000   \n",
      "max      22.000000     4.000000     4.000000     4.000000     4.000000   \n",
      "\n",
      "          failures       famrel     freetime        goout         Dalc  \\\n",
      "count  1044.000000  1044.000000  1044.000000  1044.000000  1044.000000   \n",
      "mean      0.264368     3.935824     3.201149     3.156130     1.494253   \n",
      "std       0.656142     0.933401     1.031507     1.152575     0.911714   \n",
      "min       0.000000     1.000000     1.000000     1.000000     1.000000   \n",
      "25%       0.000000     4.000000     3.000000     2.000000     1.000000   \n",
      "50%       0.000000     4.000000     3.000000     3.000000     1.000000   \n",
      "75%       0.000000     5.000000     4.000000     4.000000     2.000000   \n",
      "max       3.000000     5.000000     5.000000     5.000000     5.000000   \n",
      "\n",
      "              Walc       health     absences           G1           G2  \\\n",
      "count  1044.000000  1044.000000  1044.000000  1044.000000  1044.000000   \n",
      "mean      2.284483     3.543103     4.434866    11.213602    11.246169   \n",
      "std       1.285105     1.424703     6.210017     2.983394     3.285071   \n",
      "min       1.000000     1.000000     0.000000     0.000000     0.000000   \n",
      "25%       1.000000     3.000000     0.000000     9.000000     9.000000   \n",
      "50%       2.000000     4.000000     2.000000    11.000000    11.000000   \n",
      "75%       3.000000     5.000000     6.000000    13.000000    13.000000   \n",
      "max       5.000000     5.000000    75.000000    19.000000    19.000000   \n",
      "\n",
      "                G3  \n",
      "count  1044.000000  \n",
      "mean     11.341954  \n",
      "std       3.864796  \n",
      "min       0.000000  \n",
      "25%      10.000000  \n",
      "50%      11.000000  \n",
      "75%      14.000000  \n",
      "max      20.000000  \n",
      "school        object\n",
      "sex           object\n",
      "age            int64\n",
      "address       object\n",
      "famsize       object\n",
      "Pstatus       object\n",
      "Medu           int64\n",
      "Fedu           int64\n",
      "Mjob          object\n",
      "Fjob          object\n",
      "reason        object\n",
      "guardian      object\n",
      "traveltime     int64\n",
      "studytime      int64\n",
      "failures       int64\n",
      "schoolsup     object\n",
      "famsup        object\n",
      "paid          object\n",
      "activities    object\n",
      "nursery       object\n",
      "higher        object\n",
      "internet      object\n",
      "romantic      object\n",
      "famrel         int64\n",
      "freetime       int64\n",
      "goout          int64\n",
      "Dalc           int64\n",
      "Walc           int64\n",
      "health         int64\n",
      "absences       int64\n",
      "G1             int64\n",
      "G2             int64\n",
      "G3             int64\n",
      "language      object\n",
      "dtype: object\n"
     ]
    }
   ],
   "source": [
    "#Definir uma nova coluna para distiguir qual a disciplina em questão\n",
    "df_student_por[\"language\"] = \"Portuguese\"\n",
    "df_student_mat[\"language\"] = \"Mathematics\"\n",
    "\n",
    "#Unificar as bases\n",
    "df_student = pd.concat([df_student_por, df_student_mat], ignore_index=True)\n",
    "print(df_student.head())\n",
    "print(df_student.describe())\n",
    "print(df_student.dtypes)"
   ]
  },
  {
   "cell_type": "code",
   "execution_count": 141,
   "id": "0bce9e7e",
   "metadata": {},
   "outputs": [
    {
     "data": {
      "text/plain": [
       "Index(['school', 'sex', 'age', 'address', 'famsize', 'Pstatus', 'Medu', 'Fedu',\n",
       "       'Mjob', 'Fjob', 'reason', 'guardian', 'traveltime', 'studytime',\n",
       "       'failures', 'schoolsup', 'famsup', 'paid', 'activities', 'nursery',\n",
       "       'higher', 'internet', 'romantic', 'famrel', 'freetime', 'goout', 'Dalc',\n",
       "       'Walc', 'health', 'absences', 'G1', 'G2', 'G3', 'language'],\n",
       "      dtype='object')"
      ]
     },
     "execution_count": 141,
     "metadata": {},
     "output_type": "execute_result"
    }
   ],
   "source": [
    "df_student.columns"
   ]
  },
  {
   "cell_type": "code",
   "execution_count": 142,
   "id": "8b3eb2e3",
   "metadata": {},
   "outputs": [
    {
     "name": "stdout",
     "output_type": "stream",
     "text": [
      "['at_home', 'health', 'other', 'services', 'teacher']\n"
     ]
    }
   ],
   "source": [
    "# Lista\n",
    "### Entendendo a profissão das mães\n",
    "Mjob = list(df_student[\"Mjob\"])\n",
    "\n",
    "result = []\n",
    "\n",
    "for i in Mjob:\n",
    "    if i not in result:\n",
    "        result.append(i)\n",
    "    else:\n",
    "        pass\n",
    "\n",
    "print(result)\n",
    "\n"
   ]
  },
  {
   "cell_type": "code",
   "execution_count": 143,
   "id": "35b0dbb1",
   "metadata": {},
   "outputs": [
    {
     "name": "stdout",
     "output_type": "stream",
     "text": [
      "{2: 1, 3: 1, 1: 1, 4: 1}\n",
      "{2: 5, 3: 4, 1: 2, 4: 3}\n"
     ]
    }
   ],
   "source": [
    "# Dicionario\n",
    "### Enteder se há relação entre o tempo de estudo e tempode locomoção até a escola\n",
    "dic1 = dict(zip(df_student[\"studytime\"], df_student[\"traveltime\"]))\n",
    "print(dic1)\n",
    "\n",
    "### Enteder se há relação entre o tempo de estudo e tempo de livre\n",
    "dic2 = dict(zip(df_student[\"studytime\"], df_student[\"freetime\"]))\n",
    "print(dic2)"
   ]
  },
  {
   "cell_type": "markdown",
   "id": "2a9a9473",
   "metadata": {},
   "source": [
    "### Insight\n",
    "\n",
    "Pela lista entende-se que as profissões das mães são resumidas em áreas de atuação, como: em casa, saúde, geral, professora entre outros.\n",
    "Pelo dicionário, fica claro que todos gastam mesmo tempo de locomoção até a escola e que maior tempo de estudo não implica necessariamente em menor tempo livre."
   ]
  },
  {
   "cell_type": "code",
   "execution_count": 144,
   "id": "21cf83d7",
   "metadata": {},
   "outputs": [
    {
     "data": {
      "text/html": [
       "<div>\n",
       "<style scoped>\n",
       "    .dataframe tbody tr th:only-of-type {\n",
       "        vertical-align: middle;\n",
       "    }\n",
       "\n",
       "    .dataframe tbody tr th {\n",
       "        vertical-align: top;\n",
       "    }\n",
       "\n",
       "    .dataframe thead th {\n",
       "        text-align: right;\n",
       "    }\n",
       "</style>\n",
       "<table border=\"1\" class=\"dataframe\">\n",
       "  <thead>\n",
       "    <tr style=\"text-align: right;\">\n",
       "      <th></th>\n",
       "      <th>school</th>\n",
       "      <th>sex</th>\n",
       "      <th>age</th>\n",
       "      <th>address</th>\n",
       "      <th>famsize</th>\n",
       "      <th>Pstatus</th>\n",
       "      <th>Medu</th>\n",
       "      <th>Fedu</th>\n",
       "      <th>Mjob</th>\n",
       "      <th>Fjob</th>\n",
       "      <th>...</th>\n",
       "      <th>goout</th>\n",
       "      <th>Dalc</th>\n",
       "      <th>Walc</th>\n",
       "      <th>health</th>\n",
       "      <th>absences</th>\n",
       "      <th>G1</th>\n",
       "      <th>G2</th>\n",
       "      <th>G3</th>\n",
       "      <th>language</th>\n",
       "      <th>status</th>\n",
       "    </tr>\n",
       "  </thead>\n",
       "  <tbody>\n",
       "    <tr>\n",
       "      <th>0</th>\n",
       "      <td>GP</td>\n",
       "      <td>F</td>\n",
       "      <td>18</td>\n",
       "      <td>U</td>\n",
       "      <td>GT3</td>\n",
       "      <td>A</td>\n",
       "      <td>4</td>\n",
       "      <td>4</td>\n",
       "      <td>at_home</td>\n",
       "      <td>teacher</td>\n",
       "      <td>...</td>\n",
       "      <td>4</td>\n",
       "      <td>1</td>\n",
       "      <td>1</td>\n",
       "      <td>3</td>\n",
       "      <td>4</td>\n",
       "      <td>0</td>\n",
       "      <td>11</td>\n",
       "      <td>11</td>\n",
       "      <td>Portuguese</td>\n",
       "      <td>reproved</td>\n",
       "    </tr>\n",
       "    <tr>\n",
       "      <th>1</th>\n",
       "      <td>GP</td>\n",
       "      <td>F</td>\n",
       "      <td>17</td>\n",
       "      <td>U</td>\n",
       "      <td>GT3</td>\n",
       "      <td>T</td>\n",
       "      <td>1</td>\n",
       "      <td>1</td>\n",
       "      <td>at_home</td>\n",
       "      <td>other</td>\n",
       "      <td>...</td>\n",
       "      <td>3</td>\n",
       "      <td>1</td>\n",
       "      <td>1</td>\n",
       "      <td>3</td>\n",
       "      <td>2</td>\n",
       "      <td>9</td>\n",
       "      <td>11</td>\n",
       "      <td>11</td>\n",
       "      <td>Portuguese</td>\n",
       "      <td>reproved</td>\n",
       "    </tr>\n",
       "    <tr>\n",
       "      <th>2</th>\n",
       "      <td>GP</td>\n",
       "      <td>F</td>\n",
       "      <td>15</td>\n",
       "      <td>U</td>\n",
       "      <td>LE3</td>\n",
       "      <td>T</td>\n",
       "      <td>1</td>\n",
       "      <td>1</td>\n",
       "      <td>at_home</td>\n",
       "      <td>other</td>\n",
       "      <td>...</td>\n",
       "      <td>2</td>\n",
       "      <td>2</td>\n",
       "      <td>3</td>\n",
       "      <td>3</td>\n",
       "      <td>6</td>\n",
       "      <td>12</td>\n",
       "      <td>13</td>\n",
       "      <td>12</td>\n",
       "      <td>Portuguese</td>\n",
       "      <td>aproved</td>\n",
       "    </tr>\n",
       "    <tr>\n",
       "      <th>3</th>\n",
       "      <td>GP</td>\n",
       "      <td>F</td>\n",
       "      <td>15</td>\n",
       "      <td>U</td>\n",
       "      <td>GT3</td>\n",
       "      <td>T</td>\n",
       "      <td>4</td>\n",
       "      <td>2</td>\n",
       "      <td>health</td>\n",
       "      <td>services</td>\n",
       "      <td>...</td>\n",
       "      <td>2</td>\n",
       "      <td>1</td>\n",
       "      <td>1</td>\n",
       "      <td>5</td>\n",
       "      <td>0</td>\n",
       "      <td>14</td>\n",
       "      <td>14</td>\n",
       "      <td>14</td>\n",
       "      <td>Portuguese</td>\n",
       "      <td>aproved</td>\n",
       "    </tr>\n",
       "    <tr>\n",
       "      <th>4</th>\n",
       "      <td>GP</td>\n",
       "      <td>F</td>\n",
       "      <td>16</td>\n",
       "      <td>U</td>\n",
       "      <td>GT3</td>\n",
       "      <td>T</td>\n",
       "      <td>3</td>\n",
       "      <td>3</td>\n",
       "      <td>other</td>\n",
       "      <td>other</td>\n",
       "      <td>...</td>\n",
       "      <td>2</td>\n",
       "      <td>1</td>\n",
       "      <td>2</td>\n",
       "      <td>5</td>\n",
       "      <td>0</td>\n",
       "      <td>11</td>\n",
       "      <td>13</td>\n",
       "      <td>13</td>\n",
       "      <td>Portuguese</td>\n",
       "      <td>aproved</td>\n",
       "    </tr>\n",
       "    <tr>\n",
       "      <th>...</th>\n",
       "      <td>...</td>\n",
       "      <td>...</td>\n",
       "      <td>...</td>\n",
       "      <td>...</td>\n",
       "      <td>...</td>\n",
       "      <td>...</td>\n",
       "      <td>...</td>\n",
       "      <td>...</td>\n",
       "      <td>...</td>\n",
       "      <td>...</td>\n",
       "      <td>...</td>\n",
       "      <td>...</td>\n",
       "      <td>...</td>\n",
       "      <td>...</td>\n",
       "      <td>...</td>\n",
       "      <td>...</td>\n",
       "      <td>...</td>\n",
       "      <td>...</td>\n",
       "      <td>...</td>\n",
       "      <td>...</td>\n",
       "      <td>...</td>\n",
       "    </tr>\n",
       "    <tr>\n",
       "      <th>1039</th>\n",
       "      <td>MS</td>\n",
       "      <td>M</td>\n",
       "      <td>20</td>\n",
       "      <td>U</td>\n",
       "      <td>LE3</td>\n",
       "      <td>A</td>\n",
       "      <td>2</td>\n",
       "      <td>2</td>\n",
       "      <td>services</td>\n",
       "      <td>services</td>\n",
       "      <td>...</td>\n",
       "      <td>4</td>\n",
       "      <td>4</td>\n",
       "      <td>5</td>\n",
       "      <td>4</td>\n",
       "      <td>11</td>\n",
       "      <td>9</td>\n",
       "      <td>9</td>\n",
       "      <td>9</td>\n",
       "      <td>Mathematics</td>\n",
       "      <td>reproved</td>\n",
       "    </tr>\n",
       "    <tr>\n",
       "      <th>1040</th>\n",
       "      <td>MS</td>\n",
       "      <td>M</td>\n",
       "      <td>17</td>\n",
       "      <td>U</td>\n",
       "      <td>LE3</td>\n",
       "      <td>T</td>\n",
       "      <td>3</td>\n",
       "      <td>1</td>\n",
       "      <td>services</td>\n",
       "      <td>services</td>\n",
       "      <td>...</td>\n",
       "      <td>5</td>\n",
       "      <td>3</td>\n",
       "      <td>4</td>\n",
       "      <td>2</td>\n",
       "      <td>3</td>\n",
       "      <td>14</td>\n",
       "      <td>16</td>\n",
       "      <td>16</td>\n",
       "      <td>Mathematics</td>\n",
       "      <td>aproved</td>\n",
       "    </tr>\n",
       "    <tr>\n",
       "      <th>1041</th>\n",
       "      <td>MS</td>\n",
       "      <td>M</td>\n",
       "      <td>21</td>\n",
       "      <td>R</td>\n",
       "      <td>GT3</td>\n",
       "      <td>T</td>\n",
       "      <td>1</td>\n",
       "      <td>1</td>\n",
       "      <td>other</td>\n",
       "      <td>other</td>\n",
       "      <td>...</td>\n",
       "      <td>3</td>\n",
       "      <td>3</td>\n",
       "      <td>3</td>\n",
       "      <td>3</td>\n",
       "      <td>3</td>\n",
       "      <td>10</td>\n",
       "      <td>8</td>\n",
       "      <td>7</td>\n",
       "      <td>Mathematics</td>\n",
       "      <td>reproved</td>\n",
       "    </tr>\n",
       "    <tr>\n",
       "      <th>1042</th>\n",
       "      <td>MS</td>\n",
       "      <td>M</td>\n",
       "      <td>18</td>\n",
       "      <td>R</td>\n",
       "      <td>LE3</td>\n",
       "      <td>T</td>\n",
       "      <td>3</td>\n",
       "      <td>2</td>\n",
       "      <td>services</td>\n",
       "      <td>other</td>\n",
       "      <td>...</td>\n",
       "      <td>1</td>\n",
       "      <td>3</td>\n",
       "      <td>4</td>\n",
       "      <td>5</td>\n",
       "      <td>0</td>\n",
       "      <td>11</td>\n",
       "      <td>12</td>\n",
       "      <td>10</td>\n",
       "      <td>Mathematics</td>\n",
       "      <td>reproved</td>\n",
       "    </tr>\n",
       "    <tr>\n",
       "      <th>1043</th>\n",
       "      <td>MS</td>\n",
       "      <td>M</td>\n",
       "      <td>19</td>\n",
       "      <td>U</td>\n",
       "      <td>LE3</td>\n",
       "      <td>T</td>\n",
       "      <td>1</td>\n",
       "      <td>1</td>\n",
       "      <td>other</td>\n",
       "      <td>at_home</td>\n",
       "      <td>...</td>\n",
       "      <td>3</td>\n",
       "      <td>3</td>\n",
       "      <td>3</td>\n",
       "      <td>5</td>\n",
       "      <td>5</td>\n",
       "      <td>8</td>\n",
       "      <td>9</td>\n",
       "      <td>9</td>\n",
       "      <td>Mathematics</td>\n",
       "      <td>reproved</td>\n",
       "    </tr>\n",
       "  </tbody>\n",
       "</table>\n",
       "<p>1044 rows × 35 columns</p>\n",
       "</div>"
      ],
      "text/plain": [
       "     school sex  age address famsize Pstatus  Medu  Fedu      Mjob      Fjob  \\\n",
       "0        GP   F   18       U     GT3       A     4     4   at_home   teacher   \n",
       "1        GP   F   17       U     GT3       T     1     1   at_home     other   \n",
       "2        GP   F   15       U     LE3       T     1     1   at_home     other   \n",
       "3        GP   F   15       U     GT3       T     4     2    health  services   \n",
       "4        GP   F   16       U     GT3       T     3     3     other     other   \n",
       "...     ...  ..  ...     ...     ...     ...   ...   ...       ...       ...   \n",
       "1039     MS   M   20       U     LE3       A     2     2  services  services   \n",
       "1040     MS   M   17       U     LE3       T     3     1  services  services   \n",
       "1041     MS   M   21       R     GT3       T     1     1     other     other   \n",
       "1042     MS   M   18       R     LE3       T     3     2  services     other   \n",
       "1043     MS   M   19       U     LE3       T     1     1     other   at_home   \n",
       "\n",
       "      ... goout Dalc  Walc  health  absences  G1  G2  G3     language  \\\n",
       "0     ...     4    1     1       3         4   0  11  11   Portuguese   \n",
       "1     ...     3    1     1       3         2   9  11  11   Portuguese   \n",
       "2     ...     2    2     3       3         6  12  13  12   Portuguese   \n",
       "3     ...     2    1     1       5         0  14  14  14   Portuguese   \n",
       "4     ...     2    1     2       5         0  11  13  13   Portuguese   \n",
       "...   ...   ...  ...   ...     ...       ...  ..  ..  ..          ...   \n",
       "1039  ...     4    4     5       4        11   9   9   9  Mathematics   \n",
       "1040  ...     5    3     4       2         3  14  16  16  Mathematics   \n",
       "1041  ...     3    3     3       3         3  10   8   7  Mathematics   \n",
       "1042  ...     1    3     4       5         0  11  12  10  Mathematics   \n",
       "1043  ...     3    3     3       5         5   8   9   9  Mathematics   \n",
       "\n",
       "        status  \n",
       "0     reproved  \n",
       "1     reproved  \n",
       "2      aproved  \n",
       "3      aproved  \n",
       "4      aproved  \n",
       "...        ...  \n",
       "1039  reproved  \n",
       "1040   aproved  \n",
       "1041  reproved  \n",
       "1042  reproved  \n",
       "1043  reproved  \n",
       "\n",
       "[1044 rows x 35 columns]"
      ]
     },
     "execution_count": 144,
     "metadata": {},
     "output_type": "execute_result"
    }
   ],
   "source": [
    "#Vamos considerar que teve 200 dias de aulas durante o ano todo, e nota minima é 6.0 , logo:\n",
    "student_approved(df_student, 200, 12)\n",
    "\n",
    "df_student\n"
   ]
  },
  {
   "cell_type": "code",
   "execution_count": 145,
   "id": "8defa6b7",
   "metadata": {},
   "outputs": [
    {
     "name": "stdout",
     "output_type": "stream",
     "text": [
      "Cerca de 513 foram aprovados e os demais, 531, foram reprovados.\n"
     ]
    }
   ],
   "source": [
    "aprovados = df_student[df_student[\"status\"] == \"aproved\"].shape[0]\n",
    "reprovados = df_student[df_student[\"status\"] == \"reproved\"].shape[0]\n",
    "\n",
    "if reprovados == 0:\n",
    "    print(f\"Todos os alunos foram aprovados.\")\n",
    "else:\n",
    "    print(f\"Cerca de {aprovados} foram aprovados e os demais, {reprovados}, foram reprovados.\")"
   ]
  },
  {
   "cell_type": "code",
   "execution_count": 146,
   "id": "999f0a3a",
   "metadata": {},
   "outputs": [
    {
     "name": "stdout",
     "output_type": "stream",
     "text": [
      "Média de faltas: 4\n"
     ]
    },
    {
     "data": {
      "text/plain": [
       "health\n",
       "1    1.459854\n",
       "2    1.390244\n",
       "3    1.409302\n",
       "4    1.522989\n",
       "5    1.572152\n",
       "Name: Dalc, dtype: float64"
      ]
     },
     "execution_count": 146,
     "metadata": {},
     "output_type": "execute_result"
    }
   ],
   "source": [
    "#Obter a média de faltas\n",
    "array1 = np.array(df_student[\"absences\"])\n",
    "\n",
    "print(\"Média de faltas:\", array1.mean().astype(int))\n",
    "\n",
    "#Entender a classificacao de saude em relação ao consumo de alcool durante dias úteis\n",
    "df_health_walc = df_student.groupby(\"health\")[\"Dalc\"].mean()\n",
    "df_health_walc\n"
   ]
  },
  {
   "cell_type": "markdown",
   "id": "50552ad0",
   "metadata": {},
   "source": [
    "### Insight\n",
    "Entende-se que a média de faltas é 4, além de que, contraditoriamente ao esperado, o consumo maior de alcool representa uma maior qualidade de saúde exceto para o nível 2. Essa ultima relação será validada pelos graficos."
   ]
  },
  {
   "cell_type": "code",
   "execution_count": 147,
   "id": "913eb3ac",
   "metadata": {},
   "outputs": [
    {
     "data": {
      "image/png": "[encoded data removed]",
      "text/plain": [
       "<Figure size 640x480 with 1 Axes>"
      ]
     },
     "metadata": {},
     "output_type": "display_data"
    }
   ],
   "source": [
    "df_health_walc.plot(kind=\"line\", color=\"pink\")\n",
    "plt.title('Nível de saúde x Consumo de álcool em dias úteis')\n",
    "plt.xlabel(\"Nível de saúde\")\n",
    "plt.ylabel(\"Consumo médio de álcool\")\n",
    "\n",
    "plt.show()\n"
   ]
  },
  {
   "cell_type": "markdown",
   "id": "55a7415d",
   "metadata": {},
   "source": [
    "### Insight\n",
    "O gráfico em questão reforçou o resultado obtido pro agrupamento, entretando, conforme o conhecimento comum de associar o consumo elevado de álcool a baixa qualidade de saúde, provalvemente os dados apresentam algum viés que está gerando esse resultado inesperado.\n"
   ]
  },
  {
   "cell_type": "code",
   "execution_count": 148,
   "id": "dc01fa7c",
   "metadata": {},
   "outputs": [
    {
     "data": {
      "text/plain": [
       "language\n",
       "Mathematics    2.035443\n",
       "Portuguese     1.930663\n",
       "Name: studytime, dtype: float64"
      ]
     },
     "execution_count": 148,
     "metadata": {},
     "output_type": "execute_result"
    }
   ],
   "source": [
    "#Vamos comparar se alunos que cursam matemática ou português apresentam maior tempo de estudo entre si\n",
    "df_math_studytime = df_student.groupby(\"language\")[\"studytime\"].mean()\n",
    "df_math_studytime\n"
   ]
  },
  {
   "cell_type": "code",
   "execution_count": 149,
   "id": "e36a640c",
   "metadata": {},
   "outputs": [
    {
     "data": {
      "text/plain": [
       "Index(['school', 'sex', 'age', 'address', 'famsize', 'Pstatus', 'Medu', 'Fedu',\n",
       "       'Mjob', 'Fjob', 'reason', 'guardian', 'traveltime', 'studytime',\n",
       "       'failures', 'schoolsup', 'famsup', 'paid', 'activities', 'nursery',\n",
       "       'higher', 'internet', 'romantic', 'famrel', 'freetime', 'goout', 'Dalc',\n",
       "       'Walc', 'health', 'absences', 'G1', 'G2', 'G3', 'language', 'status'],\n",
       "      dtype='object')"
      ]
     },
     "execution_count": 149,
     "metadata": {},
     "output_type": "execute_result"
    }
   ],
   "source": [
    "df_student.columns"
   ]
  },
  {
   "cell_type": "markdown",
   "id": "fa447c85",
   "metadata": {},
   "source": [
    "### Insight\n",
    "Ou seja, alunos de matemática apresenta um tempo maior de estudo, o que é esperado em razão de ser uma disciplina considerada como mais dificil.\n"
   ]
  },
  {
   "cell_type": "code",
   "execution_count": 150,
   "id": "e6227d16",
   "metadata": {},
   "outputs": [
    {
     "data": {
      "text/plain": [
       "school  schoolsup\n",
       "GP      no           11.822556\n",
       "        yes          10.457944\n",
       "MS      no           10.503846\n",
       "        yes          10.750000\n",
       "Name: G3, dtype: float64"
      ]
     },
     "execution_count": 150,
     "metadata": {},
     "output_type": "execute_result"
    }
   ],
   "source": [
    "#Vamos entender qual escola obtem maior nota final, considerando suporte com reforço\n",
    "df_school_grade = df_student.groupby([\"school\", \"schoolsup\"])[\"G3\"].mean()\n",
    "df_school_grade"
   ]
  },
  {
   "cell_type": "code",
   "execution_count": 151,
   "id": "bc9ffe09",
   "metadata": {},
   "outputs": [
    {
     "data": {
      "text/plain": [
       "<function matplotlib.pyplot.show(close=None, block=None)>"
      ]
     },
     "execution_count": 151,
     "metadata": {},
     "output_type": "execute_result"
    },
    {
     "data": {
      "image/png": "[encoded data removed]",
      "text/plain": [
       "<Figure size 640x480 with 1 Axes>"
      ]
     },
     "metadata": {},
     "output_type": "display_data"
    }
   ],
   "source": [
    "df_school_grade.plot(kind='bar', color=\"#ADD8E6\")\n",
    "plt.title('Nota final média para cada escola considerando reforço')\n",
    "plt.xlabel(\"Escola e Reforço\")\n",
    "plt.ylabel(\"Nota final\")\n",
    "plt.tight_layout()\n",
    "\n",
    "plt.show"
   ]
  },
  {
   "cell_type": "markdown",
   "id": "c8f91400",
   "metadata": {},
   "source": [
    "### Insight\n",
    "Logo, conclui-se que a escola Gabriel Pereira (GP) apresenta uma nota final maior que a Mousinho da Silveira (MS) com alunos que não utilizam do suporte escolar, porém a nota final de alunos com refoço no MS é maior que alunos que também utilizam do supoert no GP.\n"
   ]
  },
  {
   "cell_type": "code",
   "execution_count": 152,
   "id": "a2e6371a",
   "metadata": {},
   "outputs": [
    {
     "data": {
      "text/plain": [
       "dtype('int64')"
      ]
     },
     "execution_count": 152,
     "metadata": {},
     "output_type": "execute_result"
    }
   ],
   "source": [
    "df_student['G3'].dtypes"
   ]
  },
  {
   "cell_type": "code",
   "execution_count": 153,
   "id": "d193fa8e",
   "metadata": {},
   "outputs": [
    {
     "data": {
      "text/plain": [
       "Text(0.5, 0, 'Nota final')"
      ]
     },
     "execution_count": 153,
     "metadata": {},
     "output_type": "execute_result"
    },
    {
     "data": {
      "image/png": "[encoded data removed]",
      "text/plain": [
       "<Figure size 640x480 with 1 Axes>"
      ]
     },
     "metadata": {},
     "output_type": "display_data"
    }
   ],
   "source": [
    "#Vamos entender a relação entre as notas e idades\n",
    "colors_sex = df_student['sex'].map({'F': 'red', 'M': 'green'})\n",
    "\n",
    "plt.scatter(df_student['G3'], df_student['age'], c=colors_sex)\n",
    "plt.title('Nota final x Idade')\n",
    "plt.ylabel(\"Idade\")\n",
    "plt.xlabel(\"Nota final\")\n"
   ]
  },
  {
   "cell_type": "markdown",
   "id": "e41aa206",
   "metadata": {},
   "source": [
    "### Insight\n",
    "\n",
    "    Através desse, é possivél afirmar que a relação entre idade e nota é baixa, pois não há padrão. Ou seja, a idade exerce baixa influência na nota final, para melhor compreensão seria ideal realizar uma modelagem preditiva visando entender a relação entre as variáveis"
   ]
  },
  {
   "cell_type": "code",
   "execution_count": null,
   "id": "794766d3",
   "metadata": {
    "scrolled": false
   },
   "outputs": [],
   "source": []
  }
 ],
 "metadata": {
  "kernelspec": {
   "display_name": "Python 3 (ipykernel)",
   "language": "python",
   "name": "python3"
  },
  "language_info": {
   "codemirror_mode": {
    "name": "ipython",
    "version": 3
   },
   "file_extension": ".py",
   "mimetype": "text/x-python",
   "name": "python",
   "nbconvert_exporter": "python",
   "pygments_lexer": "ipython3",
   "version": "3.9.13"
  }
 },
 "nbformat": 4,
 "nbformat_minor": 5
}
